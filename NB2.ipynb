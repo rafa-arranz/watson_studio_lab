{
 "cells": [
  {
   "cell_type": "code",
   "execution_count": 3,
   "id": "37a12f03-90d2-42de-9c61-b122e7e09e18",
   "metadata": {
    "id": "c93a6ab0-543d-4982-a35e-034f7443d3bd",
    "tags": []
   },
   "outputs": [
    {
     "name": "stdout",
     "output_type": "stream",
     "text": [
      "hello world. This is notebook 2\n"
     ]
    }
   ],
   "source": [
    "print (\"hello world. This is notebook 2\")"
   ]
  },
  {
   "cell_type": "code",
   "execution_count": null,
   "id": "3500cb8f-95c7-41aa-9ca2-4697ffb5ba55",
   "metadata": {
    "id": "3500cb8f-95c7-41aa-9ca2-4697ffb5ba55"
   },
   "outputs": [],
   "source": []
  }
 ],
 "metadata": {
  "kernelspec": {
   "display_name": "Python 3.9",
   "language": "python",
   "name": "python3"
  },
  "language_info": {
   "codemirror_mode": {
    "name": "ipython",
    "version": 3
   },
   "file_extension": ".py",
   "mimetype": "text/x-python",
   "name": "python",
   "nbconvert_exporter": "python",
   "pygments_lexer": "ipython3",
   "version": "3.9.7"
  }
 },
 "nbformat": 4,
 "nbformat_minor": 5
}
