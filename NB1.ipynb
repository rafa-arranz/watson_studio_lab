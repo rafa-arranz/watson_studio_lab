{
 "cells": [
  {
   "cell_type": "code",
   "execution_count": 3,
   "id": "ba92b970-d1fc-466c-936f-cd1311bb14e2",
   "metadata": {
    "id": "38ac0012-d861-4043-b0f7-6fc1efd2eb24",
    "tags": []
   },
   "outputs": [
    {
     "name": "stdout",
     "output_type": "stream",
     "text": [
      "hello world. This is notebook 1\n"
     ]
    }
   ],
   "source": [
    "print (\"hello world. This is notebook 1\")"
   ]
  },
  {
   "cell_type": "code",
   "execution_count": 1,
   "id": "93258852-8be5-4467-a95d-862bc1d9cc83",
   "metadata": {
    "id": "93258852-8be5-4467-a95d-862bc1d9cc83",
    "tags": []
   },
   "outputs": [
    {
     "name": "stdout",
     "output_type": "stream",
     "text": [
      "this notebook was changed by a collaborator\n"
     ]
    }
   ],
   "source": [
    "print (\"this notebook was changed by a collaborator\")"
   ]
  },
  {
   "cell_type": "code",
   "execution_count": null,
   "id": "c6393842-d824-44c7-9ef1-75351ad98737",
   "metadata": {
    "id": "c6393842-d824-44c7-9ef1-75351ad98737"
   },
   "outputs": [],
   "source": []
  }
 ],
 "metadata": {
  "kernelspec": {
   "display_name": "Python 3.9",
   "language": "python",
   "name": "python3"
  },
  "language_info": {
   "codemirror_mode": {
    "name": "ipython",
    "version": 3
   },
   "file_extension": ".py",
   "mimetype": "text/x-python",
   "name": "python",
   "nbconvert_exporter": "python",
   "pygments_lexer": "ipython3",
   "version": "3.9.7"
  }
 },
 "nbformat": 4,
 "nbformat_minor": 5
}
